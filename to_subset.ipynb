{
 "cells": [
  {
   "cell_type": "code",
   "execution_count": 10,
   "id": "94940a95",
   "metadata": {},
   "outputs": [],
   "source": [
    "import xarray as xr"
   ]
  },
  {
   "cell_type": "code",
   "execution_count": 11,
   "id": "c134f239",
   "metadata": {},
   "outputs": [
    {
     "name": "stdout",
     "output_type": "stream",
     "text": [
      "292.0\n",
      "296.0\n",
      "19.0\n",
      "17.0\n",
      "converted_test/DecIC_nmme_precip_skill.nc\n",
      "testing/DecIC_nmme_precip_skill.nc\n"
     ]
    }
   ],
   "source": [
    "# Playing with the lat lon box\n",
    "# The box is lon: -68 - -64, lat: 17.5 N - 19 N\n",
    "# lat and lon values are float32 but the step is 1.0\n",
    "\n",
    "left_lon = -68.0\n",
    "right_lon = -64.0\n",
    "up_lat = 19.0\n",
    "down_lat = 17.0\n",
    "input_path = \"converted_test/DecIC_nmme_precip_skill.nc\"\n",
    "output_path = \"testing/DecIC_nmme_precip_skill.nc\"\n",
    "\n",
    "\n",
    "# Longitude is represented from 0.0 - 359.0\n",
    "# To convert them:\n",
    "def convert_lon(lon: float) -> float:\n",
    "    return float((lon + 360) % 360)\n",
    "\n",
    "left_lon = convert_lon(left_lon)\n",
    "right_lon = convert_lon(right_lon)\n",
    "\n",
    "print(left_lon, right_lon, up_lat, down_lat, input_path, output_path, sep=\"\\n\")"
   ]
  },
  {
   "cell_type": "code",
   "execution_count": 12,
   "id": "c2e08fdd",
   "metadata": {},
   "outputs": [],
   "source": [
    "def subset(input_path: str, output_path: str, left_lon: float, \n",
    "           right_lon: float, up_lat: float, down_lat: float):\n",
    "    try:\n",
    "        ds = xr.open_dataset(input_path)\n",
    "\n",
    "        subset_ds = ds.sel(lat= slice(down_lat, up_lat), lon= slice(left_lon, right_lon))\n",
    "\n",
    "        subset_ds.to_netcdf(output_path)\n",
    "    \n",
    "    except FileNotFoundError:\n",
    "        print(f\"File: '{input_path}' not found.\")\n",
    "    except Exception as e:\n",
    "        print(f\"Error: {e}.\")\n",
    "    \n",
    "    finally:\n",
    "        if ds is not None:\n",
    "            ds.close()\n",
    "        if subset_ds is not None:\n",
    "            subset_ds.close()\n",
    "        print(\"No trash.\")"
   ]
  },
  {
   "cell_type": "code",
   "execution_count": 13,
   "id": "32bb5dd8",
   "metadata": {},
   "outputs": [
    {
     "name": "stdout",
     "output_type": "stream",
     "text": [
      "<xarray.DataArray 'lat' (lat: 181)>\n",
      "array([-90., -89., -88., -87., -86., -85., -84., -83., -82., -81., -80., -79.,\n",
      "       -78., -77., -76., -75., -74., -73., -72., -71., -70., -69., -68., -67.,\n",
      "       -66., -65., -64., -63., -62., -61., -60., -59., -58., -57., -56., -55.,\n",
      "       -54., -53., -52., -51., -50., -49., -48., -47., -46., -45., -44., -43.,\n",
      "       -42., -41., -40., -39., -38., -37., -36., -35., -34., -33., -32., -31.,\n",
      "       -30., -29., -28., -27., -26., -25., -24., -23., -22., -21., -20., -19.,\n",
      "       -18., -17., -16., -15., -14., -13., -12., -11., -10.,  -9.,  -8.,  -7.,\n",
      "        -6.,  -5.,  -4.,  -3.,  -2.,  -1.,   0.,   1.,   2.,   3.,   4.,   5.,\n",
      "         6.,   7.,   8.,   9.,  10.,  11.,  12.,  13.,  14.,  15.,  16.,  17.,\n",
      "        18.,  19.,  20.,  21.,  22.,  23.,  24.,  25.,  26.,  27.,  28.,  29.,\n",
      "        30.,  31.,  32.,  33.,  34.,  35.,  36.,  37.,  38.,  39.,  40.,  41.,\n",
      "        42.,  43.,  44.,  45.,  46.,  47.,  48.,  49.,  50.,  51.,  52.,  53.,\n",
      "        54.,  55.,  56.,  57.,  58.,  59.,  60.,  61.,  62.,  63.,  64.,  65.,\n",
      "        66.,  67.,  68.,  69.,  70.,  71.,  72.,  73.,  74.,  75.,  76.,  77.,\n",
      "        78.,  79.,  80.,  81.,  82.,  83.,  84.,  85.,  86.,  87.,  88.,  89.,\n",
      "        90.])\n",
      "Coordinates:\n",
      "  * lat      (lat) float64 -90.0 -89.0 -88.0 -87.0 -86.0 ... 87.0 88.0 89.0 90.0\n",
      "<xarray.DataArray 'lon' (lon: 360)>\n",
      "array([  0.,   1.,   2., ..., 357., 358., 359.])\n",
      "Coordinates:\n",
      "  * lon      (lon) float64 0.0 1.0 2.0 3.0 4.0 ... 355.0 356.0 357.0 358.0 359.0\n"
     ]
    }
   ],
   "source": [
    "ds = xr.open_dataset(input_path)\n",
    "print(ds['lat'])\n",
    "print(ds['lon'])"
   ]
  },
  {
   "cell_type": "code",
   "execution_count": 14,
   "id": "b0f43aee",
   "metadata": {},
   "outputs": [
    {
     "name": "stdout",
     "output_type": "stream",
     "text": [
      "No trash.\n"
     ]
    }
   ],
   "source": [
    "subset(input_path, output_path, left_lon, right_lon, up_lat, down_lat)"
   ]
  }
 ],
 "metadata": {
  "kernelspec": {
   "display_name": "base",
   "language": "python",
   "name": "python3"
  },
  "language_info": {
   "codemirror_mode": {
    "name": "ipython",
    "version": 3
   },
   "file_extension": ".py",
   "mimetype": "text/x-python",
   "name": "python",
   "nbconvert_exporter": "python",
   "pygments_lexer": "ipython3",
   "version": "3.12.7"
  }
 },
 "nbformat": 4,
 "nbformat_minor": 5
}
