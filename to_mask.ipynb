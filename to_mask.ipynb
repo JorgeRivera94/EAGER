{
 "cells": [
  {
   "cell_type": "code",
   "execution_count": 5,
   "id": "3dec9811",
   "metadata": {},
   "outputs": [],
   "source": [
    "import xarray as xr\n",
    "# import os"
   ]
  },
  {
   "cell_type": "code",
   "execution_count": 6,
   "id": "0fe6ca4c",
   "metadata": {},
   "outputs": [
    {
     "name": "stdout",
     "output_type": "stream",
     "text": [
      "<xarray.Dataset>\n",
      "Dimensions:  (lat: 181, lon: 360, time: 1, z: 1)\n",
      "Coordinates:\n",
      "  * lat      (lat) float64 -90.0 -89.0 -88.0 -87.0 -86.0 ... 87.0 88.0 89.0 90.0\n",
      "  * lon      (lon) float64 0.0 1.0 2.0 3.0 4.0 ... 355.0 356.0 357.0 358.0 359.0\n",
      "  * time     (time) datetime64[ns] 1991-01-01\n",
      "  * z        (z) float64 1.0\n",
      "Data variables:\n",
      "    sk1      (lat, lon) float32 ...\n",
      "    sk2      (lat, lon) float32 ...\n",
      "    sk3      (lat, lon) float32 ...\n",
      "    sk4      (lat, lon) float32 ...\n",
      "    sk5      (lat, lon) float32 ...\n",
      "    sk6      (lat, lon) float32 ...\n",
      "    sk7      (lat, lon) float32 ...\n",
      "    sk8      (lat, lon) float32 ...\n",
      "Attributes:\n",
      "    title:    corr.dat\n",
      "-0.6504954695701599\n"
     ]
    }
   ],
   "source": [
    "ds = xr.open_dataset(\"masking_test/converted/JunIC_nmme_precip_skill.nc\")\n",
    "print(ds)\n",
    "print(ds['sk1'].min().item())\n",
    "ds.close()"
   ]
  },
  {
   "cell_type": "code",
   "execution_count": 7,
   "id": "d1b730cb",
   "metadata": {},
   "outputs": [],
   "source": [
    "ds = xr.open_dataset(\"masking_test/converted/JunIC_nmme_precip_skill.nc\")\n",
    "\n",
    "ds['sk1'] = ds['sk1'].where(ds['sk1'] >= 0, 0)\n",
    "ds.to_netcdf(\"masking_test/masked/JunIC_nmme_precip_skill.nc\")\n",
    "\n",
    "ds.close()"
   ]
  },
  {
   "cell_type": "code",
   "execution_count": 8,
   "id": "88feaabb",
   "metadata": {},
   "outputs": [
    {
     "name": "stdout",
     "output_type": "stream",
     "text": [
      "<xarray.Dataset>\n",
      "Dimensions:  (lat: 181, lon: 360, time: 1, z: 1)\n",
      "Coordinates:\n",
      "  * lat      (lat) float64 -90.0 -89.0 -88.0 -87.0 -86.0 ... 87.0 88.0 89.0 90.0\n",
      "  * lon      (lon) float64 0.0 1.0 2.0 3.0 4.0 ... 355.0 356.0 357.0 358.0 359.0\n",
      "  * time     (time) datetime64[ns] 1991-01-01\n",
      "  * z        (z) float64 1.0\n",
      "Data variables:\n",
      "    sk1      (lat, lon) float32 ...\n",
      "    sk2      (lat, lon) float32 ...\n",
      "    sk3      (lat, lon) float32 ...\n",
      "    sk4      (lat, lon) float32 ...\n",
      "    sk5      (lat, lon) float32 ...\n",
      "    sk6      (lat, lon) float32 ...\n",
      "    sk7      (lat, lon) float32 ...\n",
      "    sk8      (lat, lon) float32 ...\n",
      "Attributes:\n",
      "    title:    corr.dat\n",
      "0.0\n"
     ]
    }
   ],
   "source": [
    "ds = xr.open_dataset(\"masking_test/masked/JunIC_nmme_precip_skill.nc\")\n",
    "print(ds)\n",
    "print(ds['sk1'].min().item())\n",
    "ds.close()"
   ]
  }
 ],
 "metadata": {
  "kernelspec": {
   "display_name": "base",
   "language": "python",
   "name": "python3"
  },
  "language_info": {
   "codemirror_mode": {
    "name": "ipython",
    "version": 3
   },
   "file_extension": ".py",
   "mimetype": "text/x-python",
   "name": "python",
   "nbconvert_exporter": "python",
   "pygments_lexer": "ipython3",
   "version": "3.12.7"
  }
 },
 "nbformat": 4,
 "nbformat_minor": 5
}
