{
 "cells": [
  {
   "cell_type": "code",
   "execution_count": 11,
   "id": "e307fc8d",
   "metadata": {},
   "outputs": [
    {
     "name": "stdout",
     "output_type": "stream",
     "text": [
      "<xarray.Dataset>\n",
      "Dimensions:       (lon: 360, lat: 181, target: 9, ensmem: 10, initial_time: 1)\n",
      "Coordinates:\n",
      "  * lon           (lon) float32 0.0 1.0 2.0 3.0 4.0 ... 356.0 357.0 358.0 359.0\n",
      "  * lat           (lat) float32 90.0 89.0 88.0 87.0 ... -87.0 -88.0 -89.0 -90.0\n",
      "  * target        (target) float32 715.0 716.0 717.0 718.0 ... 721.0 722.0 723.0\n",
      "  * ensmem        (ensmem) float32 1.0 2.0 3.0 4.0 5.0 6.0 7.0 8.0 9.0 10.0\n",
      "  * initial_time  (initial_time) float32 715.0\n",
      "Data variables:\n",
      "    fcst          (ensmem, target, lat, lon) float32 ...\n",
      "Attributes:\n",
      "    creation_date:  Sat Aug 17 13:21:53 2019\n"
     ]
    }
   ],
   "source": [
    "import xarray as xr\n",
    "\n",
    "ds = xr.open_dataset(\"C:\\\\Users\\\\jorge\\\\Downloads\\\\CanCM4i.prate.201908.anom.nc\", decode_times=False)\n",
    "\n",
    "print(ds)"
   ]
  },
  {
   "cell_type": "code",
   "execution_count": 1,
   "id": "33c40037",
   "metadata": {},
   "outputs": [
    {
     "name": "stdout",
     "output_type": "stream",
     "text": [
      "<xarray.Dataset>\n",
      "Dimensions:  (lat: 181, lon: 360, time: 1, z: 1)\n",
      "Coordinates:\n",
      "  * lat      (lat) float64 -90.0 -89.0 -88.0 -87.0 -86.0 ... 87.0 88.0 89.0 90.0\n",
      "  * lon      (lon) float64 0.0 1.0 2.0 3.0 4.0 ... 355.0 356.0 357.0 358.0 359.0\n",
      "  * time     (time) int64 0\n",
      "  * z        (z) float64 1.0\n",
      "Data variables:\n",
      "    sk1      (lat, lon) float32 ...\n",
      "    sk2      (lat, lon) float32 ...\n",
      "    sk3      (lat, lon) float32 ...\n",
      "    sk4      (lat, lon) float32 ...\n",
      "    sk5      (lat, lon) float32 ...\n",
      "    sk6      (lat, lon) float32 ...\n",
      "    sk7      (lat, lon) float32 ...\n",
      "    sk8      (lat, lon) float32 ...\n",
      "Attributes:\n",
      "    title:    corr.dat\n"
     ]
    }
   ],
   "source": [
    "import xarray as xr\n",
    "\n",
    "ds = xr.open_dataset(\"converted_test/DecIC_nmme_precip_skill.nc\", decode_times=False)\n",
    "\n",
    "print(ds)"
   ]
  },
  {
   "cell_type": "code",
   "execution_count": 7,
   "id": "bae261a0",
   "metadata": {},
   "outputs": [],
   "source": [
    "from xgrads import open_CtlDataset\n",
    "\n",
    "open_CtlDataset(\"example_GrADS/DecIC_nmme_precip_skill.ctl\").to_netcdf(\"converted_xgrads/DecIC_nmme_precip_skill.nc\")"
   ]
  },
  {
   "cell_type": "code",
   "execution_count": 3,
   "id": "70d60b5a",
   "metadata": {},
   "outputs": [
    {
     "name": "stdout",
     "output_type": "stream",
     "text": [
      "   dsetPath: example_GrADS/DecIC_nmme_precip_skill.dat\n",
      "   descPath: example_GrADS/DecIC_nmme_precip_skill.ctl\n",
      "   indxPath: \n",
      "   stnmPath: \n",
      "      title: corr.dat\n",
      "      undef: -999000000.0\n",
      "       zrev: False\n",
      "       yrev: False\n",
      "      dtype: \n",
      "   template: False\n",
      "  periodicX: True\n",
      " cal365Days: False\n",
      " sequential: False\n",
      "  byteOrder: little\n",
      "       xdef: [  0.   1.   2.   3.   4.   5.   6.   7.   8.   9.  10.  11.  12.  13.\n",
      "  14.  15.  16.  17.  18.  19.  20.  21.  22.  23.  24.  25.  26.  27.\n",
      "  28.  29.  30.  31.  32.  33.  34.  35.  36.  37.  38.  39.  40.  41.\n",
      "  42.  43.  44.  45.  46.  47.  48.  49.  50.  51.  52.  53.  54.  55.\n",
      "  56.  57.  58.  59.  60.  61.  62.  63.  64.  65.  66.  67.  68.  69.\n",
      "  70.  71.  72.  73.  74.  75.  76.  77.  78.  79.  80.  81.  82.  83.\n",
      "  84.  85.  86.  87.  88.  89.  90.  91.  92.  93.  94.  95.  96.  97.\n",
      "  98.  99. 100. 101. 102. 103. 104. 105. 106. 107. 108. 109. 110. 111.\n",
      " 112. 113. 114. 115. 116. 117. 118. 119. 120. 121. 122. 123. 124. 125.\n",
      " 126. 127. 128. 129. 130. 131. 132. 133. 134. 135. 136. 137. 138. 139.\n",
      " 140. 141. 142. 143. 144. 145. 146. 147. 148. 149. 150. 151. 152. 153.\n",
      " 154. 155. 156. 157. 158. 159. 160. 161. 162. 163. 164. 165. 166. 167.\n",
      " 168. 169. 170. 171. 172. 173. 174. 175. 176. 177. 178. 179. 180. 181.\n",
      " 182. 183. 184. 185. 186. 187. 188. 189. 190. 191. 192. 193. 194. 195.\n",
      " 196. 197. 198. 199. 200. 201. 202. 203. 204. 205. 206. 207. 208. 209.\n",
      " 210. 211. 212. 213. 214. 215. 216. 217. 218. 219. 220. 221. 222. 223.\n",
      " 224. 225. 226. 227. 228. 229. 230. 231. 232. 233. 234. 235. 236. 237.\n",
      " 238. 239. 240. 241. 242. 243. 244. 245. 246. 247. 248. 249. 250. 251.\n",
      " 252. 253. 254. 255. 256. 257. 258. 259. 260. 261. 262. 263. 264. 265.\n",
      " 266. 267. 268. 269. 270. 271. 272. 273. 274. 275. 276. 277. 278. 279.\n",
      " 280. 281. 282. 283. 284. 285. 286. 287. 288. 289. 290. 291. 292. 293.\n",
      " 294. 295. 296. 297. 298. 299. 300. 301. 302. 303. 304. 305. 306. 307.\n",
      " 308. 309. 310. 311. 312. 313. 314. 315. 316. 317. 318. 319. 320. 321.\n",
      " 322. 323. 324. 325. 326. 327. 328. 329. 330. 331. 332. 333. 334. 335.\n",
      " 336. 337. 338. 339. 340. 341. 342. 343. 344. 345. 346. 347. 348. 349.\n",
      " 350. 351. 352. 353. 354. 355. 356. 357. 358. 359.]\n",
      "       ydef: [-90. -89. -88. -87. -86. -85. -84. -83. -82. -81. -80. -79. -78. -77.\n",
      " -76. -75. -74. -73. -72. -71. -70. -69. -68. -67. -66. -65. -64. -63.\n",
      " -62. -61. -60. -59. -58. -57. -56. -55. -54. -53. -52. -51. -50. -49.\n",
      " -48. -47. -46. -45. -44. -43. -42. -41. -40. -39. -38. -37. -36. -35.\n",
      " -34. -33. -32. -31. -30. -29. -28. -27. -26. -25. -24. -23. -22. -21.\n",
      " -20. -19. -18. -17. -16. -15. -14. -13. -12. -11. -10.  -9.  -8.  -7.\n",
      "  -6.  -5.  -4.  -3.  -2.  -1.   0.   1.   2.   3.   4.   5.   6.   7.\n",
      "   8.   9.  10.  11.  12.  13.  14.  15.  16.  17.  18.  19.  20.  21.\n",
      "  22.  23.  24.  25.  26.  27.  28.  29.  30.  31.  32.  33.  34.  35.\n",
      "  36.  37.  38.  39.  40.  41.  42.  43.  44.  45.  46.  47.  48.  49.\n",
      "  50.  51.  52.  53.  54.  55.  56.  57.  58.  59.  60.  61.  62.  63.\n",
      "  64.  65.  66.  67.  68.  69.  70.  71.  72.  73.  74.  75.  76.  77.\n",
      "  78.  79.  80.  81.  82.  83.  84.  85.  86.  87.  88.  89.  90.]\n",
      "       zdef: [1.]\n",
      "       tdef: ['1991-01-01T00:00:00.000000000']\n",
      "       edef: None\n",
      "       pdef: \n",
      "       vdef: [CtlVar: sk1      in shape (t=1, z=1, y=181, x=360)\n",
      " CtlVar: sk2      in shape (t=1, z=1, y=181, x=360)\n",
      " CtlVar: sk3      in shape (t=1, z=1, y=181, x=360)\n",
      " CtlVar: sk4      in shape (t=1, z=1, y=181, x=360)\n",
      " CtlVar: sk5      in shape (t=1, z=1, y=181, x=360)\n",
      " CtlVar: sk6      in shape (t=1, z=1, y=181, x=360)\n",
      " CtlVar: sk7      in shape (t=1, z=1, y=181, x=360)\n",
      " CtlVar: sk8      in shape (t=1, z=1, y=181, x=360)]\n"
     ]
    }
   ],
   "source": [
    "from xgrads import CtlDescriptor\n",
    "\n",
    "ctl = CtlDescriptor(file=\"example_GrADS/DecIC_nmme_precip_skill.ctl\")\n",
    "\n",
    "# print all the info in ctl file\n",
    "print(ctl)"
   ]
  },
  {
   "cell_type": "code",
   "execution_count": 4,
   "id": "4b40039c",
   "metadata": {},
   "outputs": [
    {
     "name": "stdout",
     "output_type": "stream",
     "text": [
      "<xarray.Dataset>\n",
      "Dimensions:  (time: 1, lat: 181, lon: 360)\n",
      "Coordinates:\n",
      "  * time     (time) datetime64[ns] 1991-01-01\n",
      "  * lat      (lat) float32 -90.0 -89.0 -88.0 -87.0 -86.0 ... 87.0 88.0 89.0 90.0\n",
      "  * lon      (lon) float32 0.0 1.0 2.0 3.0 4.0 ... 355.0 356.0 357.0 358.0 359.0\n",
      "Data variables:\n",
      "    sk1      (time, lat, lon) float32 dask.array<chunksize=(1, 181, 360), meta=np.ndarray>\n",
      "    sk2      (time, lat, lon) float32 dask.array<chunksize=(1, 181, 360), meta=np.ndarray>\n",
      "    sk3      (time, lat, lon) float32 dask.array<chunksize=(1, 181, 360), meta=np.ndarray>\n",
      "    sk4      (time, lat, lon) float32 dask.array<chunksize=(1, 181, 360), meta=np.ndarray>\n",
      "    sk5      (time, lat, lon) float32 dask.array<chunksize=(1, 181, 360), meta=np.ndarray>\n",
      "    sk6      (time, lat, lon) float32 dask.array<chunksize=(1, 181, 360), meta=np.ndarray>\n",
      "    sk7      (time, lat, lon) float32 dask.array<chunksize=(1, 181, 360), meta=np.ndarray>\n",
      "    sk8      (time, lat, lon) float32 dask.array<chunksize=(1, 181, 360), meta=np.ndarray>\n",
      "Attributes:\n",
      "    comment:  ** surface Precipitation rate [kg/m^2/s]\n",
      "    storage:  59,1,0\n",
      "    title:    corr.dat\n",
      "    undef:    -999000000.0\n",
      "    pdef:     None\n"
     ]
    }
   ],
   "source": [
    "from xgrads import open_CtlDataset\n",
    "\n",
    "dset = open_CtlDataset(\"example_GrADS/DecIC_nmme_precip_skill.ctl\")\n",
    "\n",
    "# print all the info in ctl file\n",
    "print(dset)"
   ]
  }
 ],
 "metadata": {
  "kernelspec": {
   "display_name": "base",
   "language": "python",
   "name": "python3"
  },
  "language_info": {
   "codemirror_mode": {
    "name": "ipython",
    "version": 3
   },
   "file_extension": ".py",
   "mimetype": "text/x-python",
   "name": "python",
   "nbconvert_exporter": "python",
   "pygments_lexer": "ipython3",
   "version": "3.12.7"
  }
 },
 "nbformat": 4,
 "nbformat_minor": 5
}
