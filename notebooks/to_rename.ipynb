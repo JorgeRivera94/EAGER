{
 "cells": [
  {
   "cell_type": "code",
   "execution_count": null,
   "id": "a7a89929",
   "metadata": {},
   "outputs": [],
   "source": [
    "import os\n",
    "\n",
    "#prod\\GEM-NEMO (CMC2)\\to_convert\\AprIC_cmc2_precip_skill.ctl\n",
    "\n",
    "for model_name in [\"CanCM4i (CMC1)\", \"CCSM4\", \"CESM1\", \"CFSv2\", \"GEM-NEMO (CMC2)\", \"GEOS-5 (NASA)\", \"NMME\"]:\n",
    "    directory_path = f\"prod/{model_name}/to_convert/\"\n",
    "\n",
    "    for file_name in os.listdir(directory_path):\n",
    "        if file_name.endswith(\".txt\"):\n",
    "            old_file_path = os.path.join(directory_path, file_name)\n",
    "            new_file_name = file_name[:-4]\n",
    "            new_file_path = os.path.join(directory_path, new_file_name)\n",
    "\n",
    "            os.rename(old_file_path, new_file_path)"
   ]
  }
 ],
 "metadata": {
  "kernelspec": {
   "display_name": "base",
   "language": "python",
   "name": "python3"
  },
  "language_info": {
   "codemirror_mode": {
    "name": "ipython",
    "version": 3
   },
   "file_extension": ".py",
   "mimetype": "text/x-python",
   "name": "python",
   "nbconvert_exporter": "python",
   "pygments_lexer": "ipython3",
   "version": "3.12.7"
  }
 },
 "nbformat": 4,
 "nbformat_minor": 5
}
